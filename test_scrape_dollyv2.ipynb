{
 "cells": [
  {
   "cell_type": "code",
   "execution_count": 1,
   "id": "07c0eb72-cff1-4c93-a1ca-fb683ddeb71d",
   "metadata": {},
   "outputs": [],
   "source": [
    "!pip install -q import_ipynb\n"
   ]
  },
  {
   "cell_type": "code",
   "execution_count": 1,
   "id": "48ebf387-4e3f-4a83-8179-4c4eb148ee69",
   "metadata": {},
   "outputs": [
    {
     "name": "stdout",
     "output_type": "stream",
     "text": [
      "importing Jupyter notebook from scrape_url_content.ipynb\n",
      "importing Jupyter notebook from prompt_dollyv2.ipynb\n"
     ]
    },
    {
     "name": "stderr",
     "output_type": "stream",
     "text": [
      "/opt/conda/lib/python3.11/site-packages/torch/_utils.py:831: UserWarning: TypedStorage is deprecated. It will be removed in the future and UntypedStorage will be the only storage class. This should only matter to you if you are using storages directly.  To access UntypedStorage directly, use tensor.untyped_storage() instead of tensor.storage()\n",
      "  return self.fget.__get__(instance, owner)()\n",
      "Special tokens have been added in the vocabulary, make sure the associated word embeddings are fine-tuned or trained.\n"
     ]
    }
   ],
   "source": [
    "## Load user-defined library\n",
    "import import_ipynb\n",
    "import scrape_url_content\n",
    "import prompt_dollyv2\n"
   ]
  },
  {
   "cell_type": "code",
   "execution_count": 2,
   "id": "b9758a1b-41d3-4acc-994d-2a858d618f09",
   "metadata": {},
   "outputs": [
    {
     "name": "stdout",
     "output_type": "stream",
     "text": [
      "Got 3 out of 3 valid urls for further searching ... \n",
      "Dolly response:  The statement is fake because the context does not provide any evidence that the call is fake. In fact, the context suggests the call is real. Additionally, the context does not provide any evidence that the call is trying to discourage voters. In fact, the context suggests the call\n"
     ]
    }
   ],
   "source": [
    "## The statement of our interest/concern\n",
    "statement = 'Joe Biden said not to vote'\n",
    "\n",
    "## Scrape valid URL contents online\n",
    "df = scrape_url_content.search_statement_get_context(statement,3)\n",
    "\n",
    "## Define question and context\n",
    "question = statement\n",
    "context = df['p_text'][0]\n",
    "\n",
    "## Run detection test using dolly\n",
    "output = prompt_dollyv2.get_completion_dolly(question, context)\n",
    "print('Dolly response: ',output[0][\"generated_text\"])\n",
    "\n"
   ]
  },
  {
   "cell_type": "code",
   "execution_count": null,
   "id": "c21e7f98-c0bc-42e5-af07-8ab236e30589",
   "metadata": {},
   "outputs": [],
   "source": []
  }
 ],
 "metadata": {
  "kernelspec": {
   "display_name": "Python 3 (ipykernel)",
   "language": "python",
   "name": "python3"
  },
  "language_info": {
   "codemirror_mode": {
    "name": "ipython",
    "version": 3
   },
   "file_extension": ".py",
   "mimetype": "text/x-python",
   "name": "python",
   "nbconvert_exporter": "python",
   "pygments_lexer": "ipython3",
   "version": "3.11.6"
  }
 },
 "nbformat": 4,
 "nbformat_minor": 5
}
