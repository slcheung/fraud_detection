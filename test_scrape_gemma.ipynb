{
 "cells": [
  {
   "cell_type": "code",
   "execution_count": 1,
   "id": "07c0eb72-cff1-4c93-a1ca-fb683ddeb71d",
   "metadata": {},
   "outputs": [],
   "source": [
    "!pip install -q import_ipynb\n"
   ]
  },
  {
   "cell_type": "code",
   "execution_count": 1,
   "id": "48ebf387-4e3f-4a83-8179-4c4eb148ee69",
   "metadata": {},
   "outputs": [
    {
     "name": "stdout",
     "output_type": "stream",
     "text": [
      "importing Jupyter notebook from scrape_url_content.ipynb\n",
      "importing Jupyter notebook from prompt_gemma.ipynb\n"
     ]
    },
    {
     "data": {
      "application/vnd.jupyter.widget-view+json": {
       "model_id": "b23b640772684b7f8fe99bca8d7adec4",
       "version_major": 2,
       "version_minor": 0
      },
      "text/plain": [
       "Loading checkpoint shards:   0%|          | 0/2 [00:00<?, ?it/s]"
      ]
     },
     "metadata": {},
     "output_type": "display_data"
    }
   ],
   "source": [
    "## Load user-defined library\n",
    "import import_ipynb\n",
    "import scrape_url_content\n",
    "import prompt_gemma\n"
   ]
  },
  {
   "cell_type": "code",
   "execution_count": 2,
   "id": "b9758a1b-41d3-4acc-994d-2a858d618f09",
   "metadata": {},
   "outputs": [
    {
     "name": "stdout",
     "output_type": "stream",
     "text": [
      "Got 3 out of 3 valid urls for further searching ... \n"
     ]
    },
    {
     "name": "stderr",
     "output_type": "stream",
     "text": [
      "/opt/conda/lib/python3.11/site-packages/transformers/generation/configuration_utils.py:410: UserWarning: `do_sample` is set to `False`. However, `temperature` is set to `0.8` -- this flag is only used in sample-based generation modes. You should set `do_sample=True` or unset `temperature`.\n",
      "  warnings.warn(\n"
     ]
    },
    {
     "name": "stdout",
     "output_type": "stream",
     "text": [
      "Gemma response:  <bos>Determine if the given statement is fake, based on the context below.\n",
      "    If you don't know, say that you do not know.\n",
      "\n",
      "    Use only information from the context to make the decision.  Answer the question at the end.\n",
      "\n",
      "    Statement:\n",
      "    Joe Biden said not to vote\n",
      "\n",
      "    Context:\n",
      "    A robocall of unknown origin featuring a fake President Joe Biden is urging Democrats in New Hampshire to not vote in the state’s presidential primary, according to NBC News, the latest effort featuring AI-generated calls and advertisements this election cycle. The robocall message suggests voting will only enable “Republicans in their quest to elect Donald ... [+] Trump again.” The call, which appears to imitate or digitally manipulate Biden’s voice, suggests “voting this Tuesday only enables the Republicans in their quest to elect Donald Trump again,” adding votes will only make “a difference in November, not this Tuesday,” NBC News reported. Listeners are then provided the phone number for Kathy Sullivan, a former New Hampshire Democratic Party chair and head of Granite for America, a super PAC campaigning for voters to write in Biden’s name for the state’s primary. Sullivan—who said she first received calls on Sunday—said in an interview with NBC News that she would file a complaint with the state’s attorney general “because this is an attack on democracy.” Biden will not appear on New Hampshire’s primary ballot on Tuesday after aligning with the Democratic National Committee, which will hold its first primary in South Carolina on Feb. 3. Biden’s campaign did not immediately respond to a request for comment from Forbes. It is unknown who is behind the calls and how many voters were targeted. A spokesperson for Trump’s campaign said the calls were “not us,” adding they had “nothing to do with it.” A spokesperson for Rep. Dean Phillips (D-Minn.), one of Biden’s challengers for the Democratic presidential nomination, condemned the calls and said they were “wildly concerning.” Sullivan suggested whoever was behind the calls was “obviously somebody who wants to hurt Joe Biden.” Katie Dolan, Phillips’ spokesperson, said: “Any effort to discourage voters is disgraceful and an unacceptable affront to democracy.” The fake Biden calls follow efforts by other politicians using AI to reach out to voters. Shamaine Daniels, a Democratic House candidate in Pennsylvania, launched an AI-generated call she said allows her campaign “an opportunity to get robust information and drive the conversation.” Gov. Ron DeSantis (R-Fla.) released an AI-generated video last June of Trump hugging former White House medical advisor Anthony Fauci. A super PAC supporting DeSantis released an AI-generated ad in July of Trump reading social media posts. New York City Mayor Eric Adams—who won’t face reelection until 2025—was recently criticized for using AI to call city residents in languages he can’t speak, like Spanish or Mandarin. The World Economic Forum warned last week that AI-generated advertisements and misinformation disrupting elections pose the greatest global risk this year. Fake Joe Biden Robocall Tells New Hampshire Democrats Not To Vote On Tuesday (NBC News) 2024 Candidates Are Using AI In Their Campaigns—Here’s How To Spot It (Forbes)\n",
      "\n",
      "    Response:\n",
      "    The statement is fake.\n",
      "\n",
      "    Explanation:\n",
      "    The statement is fake because it is not true.\n",
      "\n",
      "    The context is that Joe Biden said\n"
     ]
    }
   ],
   "source": [
    "## The statement of our interest/concern\n",
    "statement = 'Joe Biden said not to vote'\n",
    "\n",
    "## Scrape valid URL contents online\n",
    "df = scrape_url_content.search_statement_get_context(statement,3)\n",
    "\n",
    "## Define question and context\n",
    "question = statement\n",
    "context = df['p_text'][0]\n",
    "\n",
    "## Run detection test using dolly\n",
    "output = prompt_gemma.get_completion_gemma(question, context)\n",
    "print('Gemma response: ',output)\n",
    "\n"
   ]
  },
  {
   "cell_type": "code",
   "execution_count": null,
   "id": "c21e7f98-c0bc-42e5-af07-8ab236e30589",
   "metadata": {},
   "outputs": [],
   "source": []
  }
 ],
 "metadata": {
  "kernelspec": {
   "display_name": "Python 3 (ipykernel)",
   "language": "python",
   "name": "python3"
  },
  "language_info": {
   "codemirror_mode": {
    "name": "ipython",
    "version": 3
   },
   "file_extension": ".py",
   "mimetype": "text/x-python",
   "name": "python",
   "nbconvert_exporter": "python",
   "pygments_lexer": "ipython3",
   "version": "3.11.6"
  }
 },
 "nbformat": 4,
 "nbformat_minor": 5
}
